{
 "cells": [
  {
   "cell_type": "code",
   "execution_count": 1,
   "metadata": {},
   "outputs": [],
   "source": [
    "from scipy import stats\n",
    "import numpy as np\n",
    "import pandas as pd\n",
    "import matplotlib.pyplot as plt\n",
    "from env import host, user, password"
   ]
  },
  {
   "cell_type": "markdown",
   "metadata": {},
   "source": [
    "For the following problems, use python to simulate the problem and calculate an experimental probability, then compare that to the theoretical probability."
   ]
  },
  {
   "cell_type": "markdown",
   "metadata": {},
   "source": [
    "### Question 1\n",
    "\n",
    "A bank found that the average number of cars waiting during the noon hour at a drive-up window follows a Poisson distribution with a mean of 2 cars. Make a chart of this distribution and answer these questions concerning the probability of cars waiting at the drive-up window.\n",
    "\n"
   ]
  },
  {
   "cell_type": "code",
   "execution_count": 2,
   "metadata": {},
   "outputs": [
    {
     "data": {
      "image/png": "[encoded data removed]",
      "text/plain": [
       "<Figure size 432x288 with 1 Axes>"
      ]
     },
     "metadata": {
      "needs_background": "light"
     },
     "output_type": "display_data"
    }
   ],
   "source": [
    "x = range(10)\n",
    "mean = 2\n",
    "y = stats.poisson(mean).pmf(x)\n",
    "\n",
    "plt.title(\"Probabiliy of seeing x Cars Per Hour\")\n",
    "plt.xlabel(\"# of cars\")\n",
    "plt.ylabel(\"Probability of seeing x cars\")\n",
    "plt.bar(x, y, color=\"white\", edgecolor=\"black\", width=1)\n",
    "plt.show()"
   ]
  },
  {
   "cell_type": "code",
   "execution_count": 3,
   "metadata": {},
   "outputs": [],
   "source": [
    "# What is the probability that no cars drive up in the noon hour?\n",
    "# what is the p(n == 0)\n",
    "theory = stats.poisson(mean).pmf(0)\n",
    "simulation = (stats.poisson(mean).rvs(10_000) == 0).mean()"
   ]
  },
  {
   "cell_type": "code",
   "execution_count": 4,
   "metadata": {},
   "outputs": [
    {
     "data": {
      "text/plain": [
       "0.1353352832366127"
      ]
     },
     "execution_count": 4,
     "metadata": {},
     "output_type": "execute_result"
    }
   ],
   "source": [
    "theory"
   ]
  },
  {
   "cell_type": "code",
   "execution_count": 5,
   "metadata": {},
   "outputs": [
    {
     "data": {
      "text/plain": [
       "0.1413"
      ]
     },
     "execution_count": 5,
     "metadata": {},
     "output_type": "execute_result"
    }
   ],
   "source": [
    "simulation"
   ]
  },
  {
   "cell_type": "code",
   "execution_count": 6,
   "metadata": {},
   "outputs": [],
   "source": [
    "# What is the probability that 3 or more cars come through the drive through?\n",
    "# using descrete numbers so 3 or more means anything over 2\n",
    "theory = stats.poisson(2).sf(2)\n",
    "simulation = (stats.poisson(2).rvs(10_000) >= 3).mean()"
   ]
  },
  {
   "cell_type": "code",
   "execution_count": 7,
   "metadata": {},
   "outputs": [
    {
     "data": {
      "text/plain": [
       "0.32332358381693654"
      ]
     },
     "execution_count": 7,
     "metadata": {},
     "output_type": "execute_result"
    }
   ],
   "source": [
    "theory"
   ]
  },
  {
   "cell_type": "code",
   "execution_count": 8,
   "metadata": {},
   "outputs": [
    {
     "data": {
      "text/plain": [
       "0.3178"
      ]
     },
     "execution_count": 8,
     "metadata": {},
     "output_type": "execute_result"
    }
   ],
   "source": [
    "simulation"
   ]
  },
  {
   "cell_type": "code",
   "execution_count": 9,
   "metadata": {},
   "outputs": [
    {
     "data": {
      "text/plain": [
       "0.40600584970983794"
      ]
     },
     "execution_count": 9,
     "metadata": {},
     "output_type": "execute_result"
    }
   ],
   "source": [
    "# How likely is it that the drive through gets at least 1 car?\n",
    "stats.poisson(2).cdf(1)"
   ]
  },
  {
   "cell_type": "markdown",
   "metadata": {},
   "source": [
    "### Question 2\n",
    "Grades of State University graduates are normally distributed with a mean of 3.0 and a standard deviation of .3. Calculate the following:"
   ]
  },
  {
   "cell_type": "code",
   "execution_count": 23,
   "metadata": {},
   "outputs": [],
   "source": [
    "mean = 3.0\n",
    "std = 0.3\n",
    "grades = stats.norm(mean, std)"
   ]
  },
  {
   "cell_type": "code",
   "execution_count": 25,
   "metadata": {},
   "outputs": [
    {
     "data": {
      "text/plain": [
       "3.4934560880854417"
      ]
     },
     "execution_count": 25,
     "metadata": {},
     "output_type": "execute_result"
    }
   ],
   "source": [
    "# theory\n",
    "grades.isf(.05)"
   ]
  },
  {
   "cell_type": "code",
   "execution_count": 12,
   "metadata": {},
   "outputs": [
    {
     "data": {
      "text/plain": [
       "3.492949738419582"
      ]
     },
     "execution_count": 12,
     "metadata": {},
     "output_type": "execute_result"
    }
   ],
   "source": [
    "# simulation\n",
    "np.percentile(grades.rvs(10_000), 95)"
   ]
  },
  {
   "cell_type": "code",
   "execution_count": 13,
   "metadata": {},
   "outputs": [
    {
     "data": {
      "text/plain": [
       "(array([1.000e+00, 3.000e+00, 1.200e+01, 1.700e+01, 3.100e+01, 6.500e+01,\n",
       "        1.260e+02, 1.410e+02, 2.770e+02, 3.610e+02, 5.170e+02, 6.180e+02,\n",
       "        7.520e+02, 8.910e+02, 9.360e+02, 1.012e+03, 9.190e+02, 8.480e+02,\n",
       "        6.760e+02, 5.640e+02, 4.420e+02, 3.200e+02, 2.150e+02, 1.130e+02,\n",
       "        6.900e+01, 4.000e+01, 1.600e+01, 1.000e+01, 5.000e+00, 3.000e+00]),\n",
       " array([1.88479731, 1.95788662, 2.03097594, 2.10406525, 2.17715457,\n",
       "        2.25024388, 2.3233332 , 2.39642251, 2.46951183, 2.54260114,\n",
       "        2.61569046, 2.68877977, 2.76186909, 2.8349584 , 2.90804772,\n",
       "        2.98113703, 3.05422635, 3.12731566, 3.20040498, 3.27349429,\n",
       "        3.34658361, 3.41967292, 3.49276224, 3.56585155, 3.63894086,\n",
       "        3.71203018, 3.78511949, 3.85820881, 3.93129812, 4.00438744,\n",
       "        4.07747675]),\n",
       " <a list of 30 Patch objects>)"
      ]
     },
     "execution_count": 13,
     "metadata": {},
     "output_type": "execute_result"
    },
    {
     "data": {
      "image/png": "[encoded data removed]",
      "text/plain": [
       "<Figure size 720x432 with 1 Axes>"
      ]
     },
     "metadata": {
      "needs_background": "light"
     },
     "output_type": "display_data"
    }
   ],
   "source": [
    "plt.figure(figsize=(10,6))\n",
    "plt.hist(grades.rvs(10_000), bins = 30, fc='black', ec='white')"
   ]
  },
  {
   "cell_type": "code",
   "execution_count": 14,
   "metadata": {},
   "outputs": [
    {
     "data": {
      "text/plain": [
       "3.4934560880854417"
      ]
     },
     "execution_count": 14,
     "metadata": {},
     "output_type": "execute_result"
    }
   ],
   "source": [
    "# What grade point average is required to be in the top 5% of the graduating class?\n",
    "# theory\n",
    "grades.ppf(.95)"
   ]
  },
  {
   "cell_type": "code",
   "execution_count": 15,
   "metadata": {},
   "outputs": [
    {
     "data": {
      "text/plain": [
       "2.4985915688028357"
      ]
     },
     "execution_count": 15,
     "metadata": {},
     "output_type": "execute_result"
    }
   ],
   "source": [
    "# simulation\n",
    "np.percentile(grades.rvs(10_000), 5)"
   ]
  },
  {
   "cell_type": "code",
   "execution_count": 16,
   "metadata": {},
   "outputs": [
    {
     "data": {
      "text/plain": [
       "2.689069983151863"
      ]
     },
     "execution_count": 16,
     "metadata": {},
     "output_type": "execute_result"
    }
   ],
   "source": [
    "# What GPA constitutes the bottom 15% of the class?\n",
    "# theory\n",
    "grades.ppf(.15)"
   ]
  },
  {
   "cell_type": "code",
   "execution_count": 17,
   "metadata": {},
   "outputs": [
    {
     "data": {
      "text/plain": [
       "2.6941451441295583"
      ]
     },
     "execution_count": 17,
     "metadata": {},
     "output_type": "execute_result"
    }
   ],
   "source": [
    "# simulation\n",
    "np.percentile(grades.rvs(10_000), 15)"
   ]
  },
  {
   "cell_type": "code",
   "execution_count": 18,
   "metadata": {},
   "outputs": [
    {
     "name": "stdout",
     "output_type": "stream",
     "text": [
      "2nd decile is 2.7475136299281258\n",
      "3rd decile is 2.842679846187588\n"
     ]
    },
    {
     "data": {
      "text/plain": [
       "True"
      ]
     },
     "execution_count": 18,
     "metadata": {},
     "output_type": "execute_result"
    }
   ],
   "source": [
    "# An eccentric alumnus left scholarship money for students in the third decile from the bottom of their class. \n",
    "# Determine the range of the third decile. \n",
    "# Would a student with a 2.8 grade point average qualify for this scholarship?\n",
    "gpa = 2.8\n",
    "# we need to find the deciles between 20 percent and 30 percent so we can see if a person with a 2.8 gpa would qualify\n",
    "# deciles are groups of 10% intervals\n",
    "second_decile = grades.ppf(.2)\n",
    "third_decile = grades.ppf(.3)\n",
    "print('2nd decile is', second_decile)\n",
    "print('3rd decile is', third_decile)\n",
    "\n",
    "theoretical = gpa > second_decile and gpa < third_decile\n",
    "theoretical"
   ]
  },
  {
   "cell_type": "code",
   "execution_count": 19,
   "metadata": {},
   "outputs": [
    {
     "name": "stdout",
     "output_type": "stream",
     "text": [
      "The upper boun is 2.838160674088571\n",
      "The lower bound is 2.7469608326825075\n"
     ]
    },
    {
     "data": {
      "text/plain": [
       "True"
      ]
     },
     "execution_count": 19,
     "metadata": {},
     "output_type": "execute_result"
    }
   ],
   "source": [
    "# simulation\n",
    "upper_bound = np.percentile(grades.rvs(10_000), 30)\n",
    "lower_bound = np.percentile(grades.rvs(10_000), 20)\n",
    "print('The upper boun is', upper_bound)\n",
    "print('The lower bound is', lower_bound)\n",
    "\n",
    "simulation = lower_bound < gpa and gpa < upper_bound\n",
    "simulation"
   ]
  },
  {
   "cell_type": "code",
   "execution_count": 20,
   "metadata": {},
   "outputs": [
    {
     "data": {
      "text/plain": [
       "0.9522096477271853"
      ]
     },
     "execution_count": 20,
     "metadata": {},
     "output_type": "execute_result"
    }
   ],
   "source": [
    "# If I have a GPA of 3.5, what percentile am I in?\n",
    "# theoretical\n",
    "grades.cdf(3.5)"
   ]
  },
  {
   "cell_type": "code",
   "execution_count": 21,
   "metadata": {},
   "outputs": [
    {
     "data": {
      "text/plain": [
       "0.9535"
      ]
     },
     "execution_count": 21,
     "metadata": {},
     "output_type": "execute_result"
    }
   ],
   "source": [
    "# simulation\n",
    "simulation = (grades.rvs(10_000) <= 3.5).mean()\n",
    "simulation"
   ]
  },
  {
   "cell_type": "markdown",
   "metadata": {},
   "source": [
    "### Question 3\n",
    "- A marketing website has an average click-through rate of 2%. \n",
    "- bOne day they observe 4326 visitors and 97 click-throughs. \n",
    "- How likely is it that this many people or more click through?"
   ]
  },
  {
   "cell_type": "code",
   "execution_count": 30,
   "metadata": {},
   "outputs": [
    {
     "data": {
      "text/plain": [
       "(0.1397582363130086, 0.13986)"
      ]
     },
     "execution_count": 30,
     "metadata": {},
     "output_type": "execute_result"
    }
   ],
   "source": [
    "# How likely is is that this many or more click through\"\n",
    "# This many or more is survival function\n",
    "clicks_distribution = stats.binom(4326, .02)\n",
    "\n",
    "# visitors_today = 97\n",
    "# .sf needs one less than today's count to include today\n",
    "\n",
    "theory = clicks_distribution.sf(96)\n",
    "simulation = (clicks_distribution.rvs(100_000) > 96).mean()\n",
    "theory, simulation"
   ]
  },
  {
   "cell_type": "markdown",
   "metadata": {},
   "source": [
    "### Question 4\n",
    "You are working on some statistics homework consisting of 100 questions where all of the answers are a probability rounded to the hundreths place. Looking to save time, you put down random probabilities as the answer to each question.\n",
    "\n",
    "- What is the probability that at least one of your first 60 answers is correct?"
   ]
  },
  {
   "cell_type": "code",
   "execution_count": 31,
   "metadata": {},
   "outputs": [
    {
     "data": {
      "text/plain": [
       "(0.4528433576092388, 0.4574)"
      ]
     },
     "execution_count": 31,
     "metadata": {},
     "output_type": "execute_result"
    }
   ],
   "source": [
    "# p = 99/100 # probability of wrong answers\n",
    "# n = 60 # 60 minutes\n",
    "\n",
    "# stats.binom(n, p).pmf(60)\n",
    "\n",
    "# Binomial b/c we're correct or not\n",
    "n = 60\n",
    "probability = .01\n",
    "theory = stats.binom(n, probability).sf(0) # suvival fuction does not include zero only anythin above it\n",
    "\n",
    "simulation = (stats.binom(n, probability).rvs(10_000) > 0).mean()\n",
    "\n",
    "theory, simulation"
   ]
  },
  {
   "cell_type": "code",
   "execution_count": 33,
   "metadata": {},
   "outputs": [],
   "source": [
    "# what is the probability of having just one correct\n",
    "\n",
    "# p_correct = 1 - stats.binom(n, p).pmf(60)\n",
    "# p_correct"
   ]
  },
  {
   "cell_type": "markdown",
   "metadata": {},
   "source": [
    "### Question 5 \n",
    "The codeup staff tends to get upset when the student break area is not cleaned up. Suppose that there's a 3% chance that any one student cleans the break area when they visit it, and, on any given day, about 90% of the 3 active cohorts of 22 students visit the break area.\n"
   ]
  },
  {
   "cell_type": "code",
   "execution_count": 34,
   "metadata": {},
   "outputs": [
    {
     "data": {
      "text/plain": [
       "(0.8342199288437355, 0.83455)"
      ]
     },
     "execution_count": 34,
     "metadata": {},
     "output_type": "execute_result"
    }
   ],
   "source": [
    "# total number of visits per day\n",
    "# total_of_clases = 3\n",
    "# number_of_students_per_class = 22\n",
    "# p_visit = 0.9\n",
    "\n",
    "# visits = round(total_of_clases * number_of_students_per_class * p_visit, 0)\n",
    "# visits\n",
    "\n",
    "# How likely is it that the break area gets cleaned up each day?\n",
    "n_students = round(.9 * 3 * 22)\n",
    "\n",
    "# \"Greater than\" is our signal to use .sf or .isf\n",
    "# Greater than 0 means someone cleaned up \n",
    "theory = stats.binom(n_students, .03).sf(0)\n",
    "\n",
    "simulation = (stats.binom(n_students, .03).rvs(100_000) > 0).mean()\n",
    "theory, simulation"
   ]
  },
  {
   "cell_type": "code",
   "execution_count": 35,
   "metadata": {},
   "outputs": [
    {
     "data": {
      "text/plain": [
       "(0.027483031992576113, 0.027373702499999996)"
      ]
     },
     "execution_count": 35,
     "metadata": {},
     "output_type": "execute_result"
    }
   ],
   "source": [
    "# # probability of at least one person cleaning p(n > 0)\n",
    "# p_clean = 0.3\n",
    "# stats.binom(visits, p_clean).sf(0) # suvival fuction does not include zero only anythin above it\n",
    "\n",
    "\n",
    "# How likely is it that it goes two days without getting cleaned up?\n",
    "# p_not_clean = 1 - p_cleaned\n",
    "n_days = 2\n",
    "(1 - theory) ** n_days, (1 - simulation) ** n_days"
   ]
  },
  {
   "cell_type": "code",
   "execution_count": 36,
   "metadata": {},
   "outputs": [
    {
     "data": {
      "text/plain": [
       "(0.0001252165138809122, 0.0001239749259270048)"
      ]
     },
     "execution_count": 36,
     "metadata": {},
     "output_type": "execute_result"
    }
   ],
   "source": [
    "# How likely is it that it goes 5 days without getting cleaned up?\n",
    "# p_not_clean = 1 - p_clean\n",
    "n_days = 5\n",
    "(1 - theory) ** n_days, (1 - simulation) ** n_days"
   ]
  },
  {
   "cell_type": "code",
   "execution_count": 38,
   "metadata": {},
   "outputs": [
    {
     "data": {
      "text/plain": [
       "0.0001252165138809122"
      ]
     },
     "execution_count": 38,
     "metadata": {},
     "output_type": "execute_result"
    }
   ],
   "source": [
    "# Another way to build this out\n",
    "# All week w/ .sf\n",
    "p_not_cleaned = 1 - theory\n",
    "stats.binom(5, p_not_cleaned).sf(4) # to include 5 we need to be one less than five"
   ]
  },
  {
   "cell_type": "markdown",
   "metadata": {},
   "source": [
    "### Question 6\n",
    "You want to get lunch at La Panaderia, but notice that the line is usually very long at lunchtime. After several weeks of careful observation, you notice that the average number of people in line when your lunch break starts is normally distributed with a mean of 15 and standard deviation of 3.\n",
    "- If it takes 2 minutes for each person to order, and 10 minutes from ordering to getting your food, what is the likelihood that you have at least 15 minutes left to eat your food before you have to go back to class? \n",
    "- Assume you have one hour for lunch, and ignore travel time to and from La Panaderia."
   ]
  },
  {
   "cell_type": "code",
   "execution_count": 43,
   "metadata": {},
   "outputs": [
    {
     "name": "stdout",
     "output_type": "stream",
     "text": [
      "Our max wait time is 33 minutes.\n"
     ]
    }
   ],
   "source": [
    "# need 2 mins to order, 10 minutes to get order, and 15 minutes to eat\n",
    "time_to_order_and_eat = 2 + 10 + 15\n",
    "time_for_lunch = 60\n",
    "max_time_to_wait = time_for_lunch - time_to_order_and_eat\n",
    "print(\"Our max wait time is\", max_time_to_wait, \"minutes.\")\n",
    "# we cannot wait longer than 33 minutes"
   ]
  },
  {
   "cell_type": "code",
   "execution_count": 45,
   "metadata": {},
   "outputs": [
    {
     "data": {
      "text/plain": [
       "(0.6914624612740131, 0.6902)"
      ]
     },
     "execution_count": 45,
     "metadata": {},
     "output_type": "execute_result"
    }
   ],
   "source": [
    "# .cdf b/c we want a given wait time or less\n",
    "# Average people is 15, so we're going from avg_people to average_wait_time\n",
    "avg_wait = 15 * 2 # (15 people) x (2 minutes / 1 person)\n",
    "\n",
    "# One standard deviation is 3 people worth of wait (edited) \n",
    "# 1 person == 2 minutes worth of wait\n",
    "sd = 3 * 2 # convert the standard deviation from person to minutes\n",
    "\n",
    "theory = stats.norm(avg_wait, sd).cdf(max_time_to_wait)\n",
    "\n",
    "simulated = (stats.norm(avg_wait, sd).rvs(10_000) <= max_time_to_wait).mean()\n",
    "theory, simulated"
   ]
  },
  {
   "cell_type": "code",
   "execution_count": null,
   "metadata": {},
   "outputs": [],
   "source": []
  },
  {
   "cell_type": "markdown",
   "metadata": {},
   "source": [
    "### Question 7\n",
    "Connect to the employees database and find the average salary of current employees, along with the standard deviation. Model the distribution of employees salaries with a normal distribution and answer the following questions:\n"
   ]
  },
  {
   "cell_type": "code",
   "execution_count": 48,
   "metadata": {},
   "outputs": [],
   "source": [
    "db_name = \"employees\"\n",
    "url = f\"mysql+pymysql://{user}:{password}@{host}/{db_name}\"\n",
    "df = pd.read_sql(\"\"\"\n",
    "    select emp_no, salary from salaries \n",
    "    join dept_emp using(emp_no)\n",
    "    where salaries.to_date > curdate() \n",
    "    and dept_emp.to_date > curdate()\n",
    "    \"\"\", url)\n",
    "salaries = df.set_index(\"emp_no\")"
   ]
  },
  {
   "cell_type": "code",
   "execution_count": 49,
   "metadata": {},
   "outputs": [
    {
     "data": {
      "text/plain": [
       "(72012.23585730705, 17309.995380251985)"
      ]
     },
     "execution_count": 49,
     "metadata": {},
     "output_type": "execute_result"
    }
   ],
   "source": [
    "avg = salaries.mean()[\"salary\"]\n",
    "stdev = salaries.std()[\"salary\"]\n",
    "avg, stdev"
   ]
  },
  {
   "cell_type": "code",
   "execution_count": 50,
   "metadata": {},
   "outputs": [
    {
     "data": {
      "text/plain": [
       "(0.24385742480214434, 0.2705727041028802)"
      ]
     },
     "execution_count": 50,
     "metadata": {},
     "output_type": "execute_result"
    }
   ],
   "source": [
    "# What percentage of employees earn less than 60,000\n",
    "theory = stats.norm(avg, stdev).cdf(60_000)\n",
    "actual = (salaries < 60_000).mean()[\"salary\"]\n",
    "theory, actual"
   ]
  },
  {
   "cell_type": "code",
   "execution_count": 51,
   "metadata": {},
   "outputs": [
    {
     "data": {
      "text/plain": [
       "(0.09208819199804058, 0.1086272092752078)"
      ]
     },
     "execution_count": 51,
     "metadata": {},
     "output_type": "execute_result"
    }
   ],
   "source": [
    "# What percentage of employees earn more than 95,000?\n",
    "\n",
    "theory = stats.norm(avg, stdev).sf(95_000)\n",
    "actual = (salaries > 95_000).mean()[\"salary\"]\n",
    "theory, actual"
   ]
  },
  {
   "cell_type": "code",
   "execution_count": 52,
   "metadata": {},
   "outputs": [
    {
     "data": {
      "text/plain": [
       "(0.3350605685446666, 0.325107028035515)"
      ]
     },
     "execution_count": 52,
     "metadata": {},
     "output_type": "execute_result"
    }
   ],
   "source": [
    "# What percent of employees earn between 65,000 and 80,000?\n",
    "actual = ((salaries < 80_000) & (salaries > 65_000)).mean()[\"salary\"]\n",
    "\n",
    "# .sf for above\n",
    "# % above 65 minus % above 80\n",
    "above_65 = stats.norm(avg, stdev).sf(65_000)\n",
    "above_80 = stats.norm(avg, stdev).sf(80_000)\n",
    "theory = above_65 - above_80\n",
    "theory\n",
    "\n",
    "theory, actual"
   ]
  },
  {
   "cell_type": "code",
   "execution_count": 53,
   "metadata": {},
   "outputs": [
    {
     "data": {
      "text/plain": [
       "(100484.64454102777, 104225.84999999998)"
      ]
     },
     "execution_count": 53,
     "metadata": {},
     "output_type": "execute_result"
    }
   ],
   "source": [
    "# What do the top 5% of employees make?\n",
    "# We're looking for probability of x and greater\n",
    "# And we have the percentage and want that cutoff, so .isf\n",
    "theory = stats.norm(avg, stdev).isf(.05)\n",
    "actual = salaries.quantile(.95)[\"salary\"]\n",
    "\n",
    "theory, actual"
   ]
  },
  {
   "cell_type": "code",
   "execution_count": 54,
   "metadata": {},
   "outputs": [
    {
     "data": {
      "image/png": "[encoded data removed]",
      "text/plain": [
       "<Figure size 432x288 with 1 Axes>"
      ]
     },
     "metadata": {
      "needs_background": "light"
     },
     "output_type": "display_data"
    }
   ],
   "source": [
    "x = np.array(salaries.salary)\n",
    "\n",
    "plt.title(\"Distribution of salary\")\n",
    "plt.ylabel(\"# of people with x salary\")\n",
    "plt.xlabel(\"Salary in $\")\n",
    "plt.hist(x, color=\"gray\")\n",
    "plt.show()"
   ]
  },
  {
   "cell_type": "code",
   "execution_count": null,
   "metadata": {},
   "outputs": [],
   "source": []
  }
 ],
 "metadata": {
  "kernelspec": {
   "display_name": "Python 3",
   "language": "python",
   "name": "python3"
  },
  "language_info": {
   "codemirror_mode": {
    "name": "ipython",
    "version": 3
   },
   "file_extension": ".py",
   "mimetype": "text/x-python",
   "name": "python",
   "nbconvert_exporter": "python",
   "pygments_lexer": "ipython3",
   "version": "3.7.4"
  }
 },
 "nbformat": 4,
 "nbformat_minor": 2
}
