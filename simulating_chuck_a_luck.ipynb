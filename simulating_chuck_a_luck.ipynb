{
 "cells": [
  {
   "cell_type": "markdown",
   "metadata": {},
   "source": [
    "# Simulating Chuck a Luck\n",
    "\n",
    "## \"Pay a Buck and Chuck-a-Luck\" \n",
    "\n",
    "[Chuck-a-Luck](https://en.wikipedia.org/wiki/Chuck-a-luck) is a game of chance often associated with charity fundraisers or street gambling rather than casinos. \n",
    "\n",
    "To play, the House says, \"Pay $1, pick a number and roll 3 dice. If any of those dice come up, you'll win $1, $2, or $3\". \n",
    "\n",
    "> \"It's even odds\", they say, \"because the probability of rolling your number is 1/6 and you get to roll 3 dice! 1/6 + 1/6 + 1/6 is 3/6 which is 1/2\". \n",
    "\n",
    "You know better than this, so it's time to make an experiment to approximate the actual risk and payoff...\n",
    "\n",
    "Rules:\n",
    "- The player pays $1 to play and picks a number.\n",
    "- The House rolls 3 dice at once.\n",
    "\n",
    "- Payouts:\n",
    "  - $3 if all three dice match the chosen number\n",
    "  - $2 if exactly two dice match the chosen number\n",
    "  - $1 is exactly one of the dice matches the chosen number\n",
    "  - If none of the dice match the player's chosen number, then the House keeps the $1.\n",
    "\n",
    "Exercises:\n",
    "- If you play 1,000,000 games in a row, what are your winnings/losses?\n",
    "- Chart out a histogram of all the outcomes of those 1,000,000 games\n",
    "- Is this really a fair game of 1/6 + 1/6 + 1/6 odds?\n",
    "- If you were to extrapolate the expected winnings per game, what would that number approach per game? "
   ]
  },
  {
   "cell_type": "code",
   "execution_count": 2,
   "metadata": {},
   "outputs": [],
   "source": [
    "# use numpy to gerate random numbers\n",
    "# get data from numpy into pandas for final anaylysis"
   ]
  },
  {
   "cell_type": "code",
   "execution_count": 3,
   "metadata": {},
   "outputs": [],
   "source": [
    "import numpy as np\n",
    "import pandas as pd"
   ]
  },
  {
   "cell_type": "code",
   "execution_count": null,
   "metadata": {},
   "outputs": [],
   "source": [
    "# np.random.choice([1,2,3,4,5,6]), size=(1_000_000, 3)\n",
    "# np.random.randint(1, 7, (10000, 3))\n",
    "# np.random.choice(range(1,7), size = (1000_000, 3))\n",
    "# np.random.choice([1, 2, 3, 4, 5, 6], size = (1_000_000, 3))\n",
    "# np.random.choice([1,2,3,4,5,6], (1_000_000, 3))\n"
   ]
  }
 ],
 "metadata": {
  "kernelspec": {
   "display_name": "Python 3",
   "language": "python",
   "name": "python3"
  },
  "language_info": {
   "codemirror_mode": {
    "name": "ipython",
    "version": 3
   },
   "file_extension": ".py",
   "mimetype": "text/x-python",
   "name": "python",
   "nbconvert_exporter": "python",
   "pygments_lexer": "ipython3",
   "version": "3.7.4"
  }
 },
 "nbformat": 4,
 "nbformat_minor": 2
}
